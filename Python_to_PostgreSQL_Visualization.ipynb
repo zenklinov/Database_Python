{
 "cells": [
  {
   "cell_type": "markdown",
   "metadata": {},
   "source": [
    "# Materi Pertemuan 15: Integrasi Python-PostgreSQL dan Visualisasi Data\n",
    "\n",
    "Pada pertemuan ini, kita akan membahas dua skenario utama yang mengintegrasikan  PostgreSQL, dan Python untuk manipulasi data serta visualisasinya.\n",
    "\n",
    "- Skenario 1: Data dari Pandas DataFrame ke PostgreSQL kemudian di visuliasasikan di Python\n",
    "- Skenario 2: Data dari SQL Python ke PostgreSQL kemudian di visuliasasikan di Python"
   ]
  },
  {
   "cell_type": "markdown",
   "metadata": {},
   "source": [
    "## Skenario 1:\n",
    "\n",
    "**Install dan Import Library**"
   ]
  },
  {
   "cell_type": "code",
   "execution_count": null,
   "metadata": {},
   "outputs": [],
   "source": [
    "# Install psycopg2 jika belum terinstall\n",
    "!pip install psycopg2 pandas sqlalchemy matplotlib seaborn\n"
   ]
  },
  {
   "cell_type": "code",
   "execution_count": 1,
   "metadata": {},
   "outputs": [],
   "source": [
    "import psycopg2\n",
    "import pandas as pd\n",
    "from sqlalchemy import create_engine\n",
    "import matplotlib.pyplot as plt\n",
    "import seaborn as sns\n"
   ]
  },
  {
   "cell_type": "markdown",
   "metadata": {},
   "source": [
    "Kita menggunakan library psycopg2 untuk koneksi PostgreSQL, pandas untuk manipulasi data, dan sqlalchemy untuk mengintegrasikan SQL dengan Python. matplotlib dan seaborn digunakan untuk visualisasi data."
   ]
  },
  {
   "cell_type": "markdown",
   "metadata": {},
   "source": [
    "**2. Membuat Koneksi ke PostgreSQL**"
   ]
  },
  {
   "cell_type": "code",
   "execution_count": 7,
   "metadata": {},
   "outputs": [
    {
     "name": "stdout",
     "output_type": "stream",
     "text": [
      "Koneksi ke PostgreSQL berhasil.\n",
      "Database 'toko_barang' berhasil dibuat.\n"
     ]
    }
   ],
   "source": [
    "import psycopg2\n",
    "from psycopg2 import sql\n",
    "\n",
    "# Detail koneksi ke PostgreSQL\n",
    "USER = \"postgres\"\n",
    "PASSWORD = \"1234\"\n",
    "HOST = \"localhost\"\n",
    "PORT = \"5432\"\n",
    "DATABASE_NAME = \"toko_barang\"\n",
    "\n",
    "# Membuat koneksi awal ke PostgreSQL (tanpa menentukan database)\n",
    "try:\n",
    "    conn = psycopg2.connect(\n",
    "        user=USER,\n",
    "        password=PASSWORD,\n",
    "        host=HOST,\n",
    "        port=PORT,\n",
    "        database=\"postgres\"  # Koneksi ke database default\n",
    "    )\n",
    "    conn.autocommit = True  # Dibutuhkan untuk eksekusi perintah CREATE DATABASE\n",
    "    cursor = conn.cursor()\n",
    "    print(\"Koneksi ke PostgreSQL berhasil.\")\n",
    "    \n",
    "    # Memeriksa apakah database sudah ada\n",
    "    cursor.execute(sql.SQL(\"SELECT 1 FROM pg_database WHERE datname = %s\"), [DATABASE_NAME])\n",
    "    exists = cursor.fetchone()\n",
    "\n",
    "    if not exists:\n",
    "        # Membuat database jika belum ada\n",
    "        cursor.execute(sql.SQL(\"CREATE DATABASE {}\").format(sql.Identifier(DATABASE_NAME)))\n",
    "        print(f\"Database '{DATABASE_NAME}' berhasil dibuat.\")\n",
    "    else:\n",
    "        print(f\"Database '{DATABASE_NAME}' sudah ada.\")\n",
    "    \n",
    "    cursor.close()\n",
    "    conn.close()\n",
    "\n",
    "except Exception as e:\n",
    "    print(f\"Terjadi kesalahan: {e}\")\n"
   ]
  },
  {
   "cell_type": "code",
   "execution_count": 10,
   "metadata": {},
   "outputs": [
    {
     "name": "stdout",
     "output_type": "stream",
     "text": [
      "Koneksi berhasil ke database yang baru dibuat!\n"
     ]
    }
   ],
   "source": [
    "from sqlalchemy import create_engine\n",
    "\n",
    "engine = create_engine(f\"postgresql://{USER}:{PASSWORD}@{HOST}:{PORT}/{DATABASE}\")\n",
    "conn = engine.connect()\n",
    "print(\"Koneksi berhasil ke database yang baru dibuat!\")\n"
   ]
  },
  {
   "cell_type": "markdown",
   "metadata": {},
   "source": [
    "**3. Membuat DataFrame dan Memasukkan ke PostgreSQL**"
   ]
  },
  {
   "cell_type": "code",
   "execution_count": 4,
   "metadata": {},
   "outputs": [
    {
     "name": "stdout",
     "output_type": "stream",
     "text": [
      "   Product_ID Product_Name    Price  Stock\n",
      "0         101     Keyboard   500000     50\n",
      "1         102        Mouse   200000    150\n",
      "2         103      Monitor  1500000     30\n",
      "3         104          CPU  2500000     20\n"
     ]
    }
   ],
   "source": [
    "# Membuat DataFrame\n",
    "data = {\n",
    "    \"Product_ID\": [101, 102, 103, 104],\n",
    "    \"Product_Name\": [\"Keyboard\", \"Mouse\", \"Monitor\", \"CPU\"],\n",
    "    \"Price\": [500000, 200000, 1500000, 2500000],\n",
    "    \"Stock\": [50, 150, 30, 20]\n",
    "}\n",
    "df = pd.DataFrame(data)\n",
    "print(df)\n"
   ]
  },
  {
   "cell_type": "code",
   "execution_count": 11,
   "metadata": {},
   "outputs": [
    {
     "name": "stdout",
     "output_type": "stream",
     "text": [
      "Data dimasukkan ke tabel product_data\n"
     ]
    }
   ],
   "source": [
    "# Memasukkan data ke PostgreSQL\n",
    "table_name = \"product_data\"\n",
    "df.to_sql(table_name, engine, if_exists=\"replace\", index=False)\n",
    "print(f\"Data dimasukkan ke tabel {table_name}\")\n"
   ]
  },
  {
   "cell_type": "markdown",
   "metadata": {},
   "source": [
    "**4. Query Data di PostgreSQL dan Visualisasi**"
   ]
  },
  {
   "cell_type": "code",
   "execution_count": 12,
   "metadata": {},
   "outputs": [
    {
     "name": "stdout",
     "output_type": "stream",
     "text": [
      "   Product_ID Product_Name    Price  Stock\n",
      "0         101     Keyboard   500000     50\n",
      "1         102        Mouse   200000    150\n",
      "2         103      Monitor  1500000     30\n",
      "3         104          CPU  2500000     20\n"
     ]
    }
   ],
   "source": [
    "# Membaca data dari PostgreSQL\n",
    "query = f\"SELECT * FROM {table_name}\"\n",
    "df_from_db = pd.read_sql(query, conn)\n",
    "print(df_from_db)\n"
   ]
  },
  {
   "cell_type": "code",
   "execution_count": 14,
   "metadata": {},
   "outputs": [
    {
     "data": {
      "image/png": "[encoded data removed]",
      "text/plain": [
       "<Figure size 800x800 with 1 Axes>"
      ]
     },
     "metadata": {},
     "output_type": "display_data"
    }
   ],
   "source": [
    "# Visualisasi\n",
    "plt.figure(figsize=(8, 8))\n",
    "plt.pie(\n",
    "    df_from_db[\"Stock\"], \n",
    "    labels=df_from_db[\"Product_Name\"], \n",
    "    autopct='%1.1f%%', \n",
    "    startangle=90, \n",
    "    colors=sns.color_palette(\"pastel\")\n",
    ")\n",
    "\n",
    "plt.title(\"Distribusi Stok per Produk\")\n",
    "plt.show()"
   ]
  },
  {
   "cell_type": "markdown",
   "metadata": {},
   "source": [
    "## Skenario 2\n",
    "\n",
    "Membuat Database, Tabel, dan Memasukkan Data"
   ]
  },
  {
   "cell_type": "code",
   "execution_count": 15,
   "metadata": {},
   "outputs": [
    {
     "name": "stdout",
     "output_type": "stream",
     "text": [
      "Data berhasil dimasukkan!\n"
     ]
    }
   ],
   "source": [
    "# Koneksi ke PostgreSQL untuk eksekusi manual\n",
    "conn_raw = psycopg2.connect(\n",
    "    dbname=DATABASE, user=USER, password=PASSWORD, host=HOST, port=PORT\n",
    ")\n",
    "cursor = conn_raw.cursor()\n",
    "\n",
    "# Membuat tabel\n",
    "create_table_query = \"\"\"\n",
    "CREATE TABLE IF NOT EXISTS software_store (\n",
    "    Store_ID SERIAL PRIMARY KEY,\n",
    "    Store_Name VARCHAR(50),\n",
    "    Location VARCHAR(100),\n",
    "    Sales INT\n",
    ");\n",
    "\"\"\"\n",
    "cursor.execute(create_table_query)\n",
    "\n",
    "# Memasukkan data\n",
    "insert_query = \"\"\"\n",
    "INSERT INTO software_store (Store_Name, Location, Sales) VALUES\n",
    "('TechMart', 'Jakarta', 120),\n",
    "('SoftSolutions', 'Bandung', 80),\n",
    "('CompuWorld', 'Surabaya', 100)\n",
    "ON CONFLICT DO NOTHING;\n",
    "\"\"\"\n",
    "cursor.execute(insert_query)\n",
    "conn_raw.commit()\n",
    "print(\"Data berhasil dimasukkan!\")\n"
   ]
  },
  {
   "cell_type": "markdown",
   "metadata": {},
   "source": [
    "**2. Membaca Data sebagai Pandas DataFrame**"
   ]
  },
  {
   "cell_type": "code",
   "execution_count": 16,
   "metadata": {},
   "outputs": [
    {
     "name": "stdout",
     "output_type": "stream",
     "text": [
      "   store_id     store_name  location  sales\n",
      "0         1       TechMart   Jakarta    120\n",
      "1         2  SoftSolutions   Bandung     80\n",
      "2         3     CompuWorld  Surabaya    100\n"
     ]
    }
   ],
   "source": [
    "# Membaca data ke Pandas DataFrame\n",
    "query_store = \"SELECT * FROM software_store\"\n",
    "df_store = pd.read_sql(query_store, conn)\n",
    "print(df_store)\n"
   ]
  },
  {
   "cell_type": "markdown",
   "metadata": {},
   "source": [
    "**3. Visualisasi**"
   ]
  },
  {
   "cell_type": "code",
   "execution_count": 18,
   "metadata": {},
   "outputs": [
    {
     "data": {
      "image/png": "[encoded data removed]",
      "text/plain": [
       "<Figure size 800x600 with 1 Axes>"
      ]
     },
     "metadata": {},
     "output_type": "display_data"
    }
   ],
   "source": [
    "# Visualisasi dengan matplotlib\n",
    "plt.figure(figsize=(8, 6))\n",
    "sns.barplot(x=\"store_name\", y=\"sales\", data=df_store)\n",
    "plt.title(\"Penjualan Perangkat Lunak di Berbagai Kota\")\n",
    "plt.xlabel(\"Nama Toko\")\n",
    "plt.ylabel(\"Penjualan\")\n",
    "plt.show()\n"
   ]
  }
 ],
 "metadata": {
  "kernelspec": {
   "display_name": "Python 3",
   "language": "python",
   "name": "python3"
  },
  "language_info": {
   "codemirror_mode": {
    "name": "ipython",
    "version": 3
   },
   "file_extension": ".py",
   "mimetype": "text/x-python",
   "name": "python",
   "nbconvert_exporter": "python",
   "pygments_lexer": "ipython3",
   "version": "3.12.4"
  }
 },
 "nbformat": 4,
 "nbformat_minor": 2
}
