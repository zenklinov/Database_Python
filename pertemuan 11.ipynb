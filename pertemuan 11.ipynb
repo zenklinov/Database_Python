{
 "cells": [
  {
   "cell_type": "markdown",
   "metadata": {},
   "source": [
    "# Connection Python to PostgreSQL\n",
    "\n",
    "1. Menyiapkan Koneksi PostgreSQL di Jupyter Notebook\n",
    "\n",
    "Pastikan Anda sudah menginstal psycopg2"
   ]
  },
  {
   "cell_type": "code",
   "execution_count": 1,
   "metadata": {},
   "outputs": [],
   "source": [
    "import psycopg2\n",
    "from psycopg2 import sql\n",
    "import pandas as pd\n"
   ]
  },
  {
   "cell_type": "markdown",
   "metadata": {},
   "source": [
    "2. Membuat Database, Tabel, dan Menambahkan Data\n",
    "\n",
    "**Membuat Koneksi ke PostgreSQL**\n",
    "\n",
    "Pertama, buat koneksi ke PostgreSQL. Pastikan PostgreSQL berjalan dan kredensial sudah benar."
   ]
  },
  {
   "cell_type": "code",
   "execution_count": 2,
   "metadata": {},
   "outputs": [],
   "source": [
    "# Koneksi ke PostgreSQL\n",
    "connection = psycopg2.connect(\n",
    "    host=\"localhost\",\n",
    "    user=\"postgres\",\n",
    "    password=\"1234\",\n",
    "    database=\"postgres\"  # Koneksi ke database default PostgreSQL\n",
    ")\n",
    "connection.autocommit = True  # Set autocommit agar perintah create database langsung dieksekusi\n",
    "\n",
    "# Buat cursor untuk menjalankan perintah SQL\n",
    "cursor = connection.cursor()\n"
   ]
  },
  {
   "cell_type": "markdown",
   "metadata": {},
   "source": [
    "**Membuat Database Baru**\n",
    "\n",
    "Buat database baru untuk latihan ini."
   ]
  },
  {
   "cell_type": "code",
   "execution_count": 3,
   "metadata": {},
   "outputs": [
    {
     "name": "stdout",
     "output_type": "stream",
     "text": [
      "Database 'test_db' berhasil dibuat.\n"
     ]
    }
   ],
   "source": [
    "# Perintah membuat database\n",
    "database_name = \"test_db\"\n",
    "try:\n",
    "    cursor.execute(sql.SQL(\"CREATE DATABASE {}\").format(sql.Identifier(database_name)))\n",
    "    print(f\"Database '{database_name}' berhasil dibuat.\")\n",
    "except psycopg2.errors.DuplicateDatabase:\n",
    "    print(f\"Database '{database_name}' sudah ada.\")\n",
    "finally:\n",
    "    cursor.close()\n",
    "    connection.close()\n"
   ]
  },
  {
   "cell_type": "markdown",
   "metadata": {},
   "source": [
    "**Koneksi ke Database Baru**\n",
    "\n",
    "Setelah membuat database, buat koneksi baru untuk database yang baru saja dibuat:"
   ]
  },
  {
   "cell_type": "code",
   "execution_count": 4,
   "metadata": {},
   "outputs": [],
   "source": [
    "# Koneksi ke database baru\n",
    "connection = psycopg2.connect(\n",
    "    host=\"localhost\",\n",
    "    database=\"test_db\",\n",
    "    user=\"postgres\",\n",
    "    password=\"1234\"\n",
    ")\n",
    "cursor = connection.cursor()\n"
   ]
  },
  {
   "cell_type": "markdown",
   "metadata": {},
   "source": [
    "**Membuat Tabel**\n",
    "\n",
    "Buat tabel employees dalam database test_db:"
   ]
  },
  {
   "cell_type": "code",
   "execution_count": 5,
   "metadata": {},
   "outputs": [
    {
     "name": "stdout",
     "output_type": "stream",
     "text": [
      "Tabel 'employees' berhasil dibuat.\n"
     ]
    }
   ],
   "source": [
    "# Membuat tabel employees\n",
    "create_table_query = '''\n",
    "CREATE TABLE IF NOT EXISTS employees (\n",
    "    id SERIAL PRIMARY KEY,\n",
    "    name VARCHAR(100),\n",
    "    position VARCHAR(50),\n",
    "    salary NUMERIC(10, 2)\n",
    ");\n",
    "'''\n",
    "cursor.execute(create_table_query)\n",
    "connection.commit()\n",
    "print(\"Tabel 'employees' berhasil dibuat.\")\n"
   ]
  },
  {
   "cell_type": "markdown",
   "metadata": {},
   "source": [
    "**Menambahkan Data dengan INSERT**\n",
    "\n",
    "Tambahkan data contoh ke dalam tabel employees"
   ]
  },
  {
   "cell_type": "code",
   "execution_count": 6,
   "metadata": {},
   "outputs": [
    {
     "name": "stdout",
     "output_type": "stream",
     "text": [
      "Data berhasil ditambahkan ke tabel 'employees'.\n"
     ]
    }
   ],
   "source": [
    "# Menambahkan data ke tabel employees\n",
    "insert_query = '''\n",
    "INSERT INTO employees (name, position, salary) \n",
    "VALUES (%s, %s, %s)\n",
    "'''\n",
    "data_to_insert = [\n",
    "    (\"Alice\", \"Data Scientist\", 85000.00),\n",
    "    (\"Bob\", \"Data Engineer\", 75000.00),\n",
    "    (\"Charlie\", \"Analyst\", 60000.00)\n",
    "]\n",
    "\n",
    "for data in data_to_insert:\n",
    "    cursor.execute(insert_query, data)\n",
    "\n",
    "connection.commit()\n",
    "print(\"Data berhasil ditambahkan ke tabel 'employees'.\")\n"
   ]
  },
  {
   "cell_type": "markdown",
   "metadata": {},
   "source": [
    "(Jika Dibutuhkan)\n",
    "\n",
    "**Melakukan Update Data**"
   ]
  },
  {
   "cell_type": "code",
   "execution_count": 16,
   "metadata": {},
   "outputs": [
    {
     "name": "stdout",
     "output_type": "stream",
     "text": [
      "Gaji Alice berhasil diperbarui menjadi 90000.0.\n"
     ]
    }
   ],
   "source": [
    "# Update data\n",
    "update_query = \"UPDATE employees SET salary = %s WHERE name = %s\"\n",
    "new_salary = 90000.00\n",
    "employee_name = \"Alice\"\n",
    "cursor.execute(update_query, (new_salary, employee_name))\n",
    "connection.commit()\n",
    "print(f\"Gaji {employee_name} berhasil diperbarui menjadi {new_salary}.\")"
   ]
  },
  {
   "cell_type": "markdown",
   "metadata": {},
   "source": [
    "**Melihat Data dari Tabel**\n",
    "\n",
    "Ambil dan tampilkan data dari tabel employees untuk memastikan data telah berhasil ditambahkan."
   ]
  },
  {
   "cell_type": "code",
   "execution_count": 7,
   "metadata": {},
   "outputs": [
    {
     "name": "stdout",
     "output_type": "stream",
     "text": [
      "(1, 'Alice', 'Data Scientist', Decimal('85000.00'))\n",
      "(2, 'Bob', 'Data Engineer', Decimal('75000.00'))\n",
      "(3, 'Charlie', 'Analyst', Decimal('60000.00'))\n"
     ]
    }
   ],
   "source": [
    "# Query untuk menampilkan data\n",
    "select_query = \"SELECT * FROM employees\"\n",
    "cursor.execute(select_query)\n",
    "rows = cursor.fetchall()\n",
    "\n",
    "# Tampilkan data\n",
    "for row in rows:\n",
    "    print(row)\n"
   ]
  },
  {
   "cell_type": "markdown",
   "metadata": {},
   "source": [
    "(Jika Dibutuhkan)\n",
    "\n",
    "**Melakukan Hapus Data Tabel**"
   ]
  },
  {
   "cell_type": "code",
   "execution_count": 8,
   "metadata": {},
   "outputs": [
    {
     "name": "stdout",
     "output_type": "stream",
     "text": [
      "Tabel 'employees' berhasil dihapus.\n"
     ]
    }
   ],
   "source": [
    "# Hapus tabel\n",
    "drop_table_query = \"DROP TABLE IF EXISTS employees\"\n",
    "cursor.execute(drop_table_query)\n",
    "connection.commit()\n",
    "print(\"Tabel 'employees' berhasil dihapus.\")"
   ]
  },
  {
   "cell_type": "markdown",
   "metadata": {},
   "source": [
    "**Menutup Koneksi**\n",
    "\n",
    "Setelah selesai, pastikan untuk menutup koneksi."
   ]
  },
  {
   "cell_type": "code",
   "execution_count": 9,
   "metadata": {},
   "outputs": [],
   "source": [
    "cursor.close()\n",
    "connection.close()\n"
   ]
  },
  {
   "cell_type": "markdown",
   "metadata": {},
   "source": [
    "---\n",
    "\n",
    "# Menambahkan kolom dan baris baru\n",
    "\n",
    "**Membuat Koneksi, table, dan insert table**"
   ]
  },
  {
   "cell_type": "code",
   "execution_count": 10,
   "metadata": {},
   "outputs": [],
   "source": [
    "connection = psycopg2.connect(\n",
    "    host=\"localhost\",\n",
    "    database=\"test_db\",\n",
    "    user=\"postgres\",\n",
    "    password=\"1234\"\n",
    ")\n",
    "cursor = connection.cursor()"
   ]
  },
  {
   "cell_type": "code",
   "execution_count": 11,
   "metadata": {},
   "outputs": [
    {
     "name": "stdout",
     "output_type": "stream",
     "text": [
      "Tabel 'employees' berhasil dibuat.\n"
     ]
    }
   ],
   "source": [
    "# Membuat tabel employees\n",
    "create_table_query = '''\n",
    "CREATE TABLE IF NOT EXISTS employees (\n",
    "    id SERIAL PRIMARY KEY,\n",
    "    name VARCHAR(100),\n",
    "    position VARCHAR(50),\n",
    "    salary NUMERIC(10, 2)\n",
    ");\n",
    "'''\n",
    "cursor.execute(create_table_query)\n",
    "connection.commit()\n",
    "print(\"Tabel 'employees' berhasil dibuat.\")\n"
   ]
  },
  {
   "cell_type": "code",
   "execution_count": 12,
   "metadata": {},
   "outputs": [
    {
     "name": "stdout",
     "output_type": "stream",
     "text": [
      "Data berhasil ditambahkan ke tabel 'employees'.\n"
     ]
    }
   ],
   "source": [
    "# Menambahkan data ke tabel employees\n",
    "insert_query = '''\n",
    "INSERT INTO employees (name, position, salary) \n",
    "VALUES (%s, %s, %s)\n",
    "'''\n",
    "data_to_insert = [\n",
    "    (\"Alice\", \"Data Scientist\", 85000.00),\n",
    "    (\"Bob\", \"Data Engineer\", 75000.00),\n",
    "    (\"Charlie\", \"Analyst\", 60000.00)\n",
    "]\n",
    "\n",
    "for data in data_to_insert:\n",
    "    cursor.execute(insert_query, data)\n",
    "\n",
    "connection.commit()\n",
    "print(\"Data berhasil ditambahkan ke tabel 'employees'.\")\n"
   ]
  },
  {
   "cell_type": "markdown",
   "metadata": {},
   "source": [
    "**Menambahkan Kolom dan Baris Baru ke Tabel**"
   ]
  },
  {
   "cell_type": "code",
   "execution_count": 13,
   "metadata": {},
   "outputs": [
    {
     "name": "stdout",
     "output_type": "stream",
     "text": [
      "Kolom 'department' berhasil ditambahkan ke tabel 'employees'.\n"
     ]
    }
   ],
   "source": [
    "# Menambahkan kolom baru 'department'\n",
    "add_column_query = '''\n",
    "ALTER TABLE employees\n",
    "ADD COLUMN department VARCHAR(50);\n",
    "'''\n",
    "cursor.execute(add_column_query)\n",
    "connection.commit()\n",
    "print(\"Kolom 'department' berhasil ditambahkan ke tabel 'employees'.\")\n"
   ]
  },
  {
   "cell_type": "code",
   "execution_count": 14,
   "metadata": {},
   "outputs": [
    {
     "name": "stdout",
     "output_type": "stream",
     "text": [
      "Baris baru berhasil ditambahkan ke tabel 'employees'.\n"
     ]
    }
   ],
   "source": [
    "# Menambahkan baris baru ke tabel employees\n",
    "insert_new_rows_query = '''\n",
    "INSERT INTO employees (name, position, salary, department) \n",
    "VALUES (%s, %s, %s, %s)\n",
    "'''\n",
    "new_data_to_insert = [\n",
    "    (\"David\", \"Data Analyst\", 65000.00, \"Analytics\"),\n",
    "    (\"Emma\", \"Data Engineer\", 78000.00, \"Engineering\"),\n",
    "    (\"Frank\", \"Machine Learning Engineer\", 90000.00, \"AI\")\n",
    "]\n",
    "\n",
    "for data in new_data_to_insert:\n",
    "    cursor.execute(insert_new_rows_query, data)\n",
    "\n",
    "connection.commit()\n",
    "print(\"Baris baru berhasil ditambahkan ke tabel 'employees'.\")"
   ]
  },
  {
   "cell_type": "code",
   "execution_count": 15,
   "metadata": {},
   "outputs": [
    {
     "name": "stdout",
     "output_type": "stream",
     "text": [
      "(1, 'Alice', 'Data Scientist', Decimal('85000.00'), None)\n",
      "(2, 'Bob', 'Data Engineer', Decimal('75000.00'), None)\n",
      "(3, 'Charlie', 'Analyst', Decimal('60000.00'), None)\n",
      "(4, 'David', 'Data Analyst', Decimal('65000.00'), 'Analytics')\n",
      "(5, 'Emma', 'Data Engineer', Decimal('78000.00'), 'Engineering')\n",
      "(6, 'Frank', 'Machine Learning Engineer', Decimal('90000.00'), 'AI')\n"
     ]
    }
   ],
   "source": [
    "# Menampilkan semua data dari tabel employees\n",
    "cursor.execute(\"SELECT * FROM employees\")\n",
    "rows = cursor.fetchall()\n",
    "\n",
    "for row in rows:\n",
    "    print(row)\n",
    "\n",
    "# Menutup koneksi\n",
    "cursor.close()\n",
    "connection.close()"
   ]
  },
  {
   "cell_type": "code",
   "execution_count": 17,
   "metadata": {},
   "outputs": [],
   "source": [
    "cursor.close()\n",
    "connection.close()"
   ]
  },
  {
   "cell_type": "markdown",
   "metadata": {},
   "source": [
    "---\n",
    "\n",
    "(Jika Dibutuhkan)\n",
    "\n",
    "# Menghapus Database"
   ]
  },
  {
   "cell_type": "code",
   "execution_count": 20,
   "metadata": {},
   "outputs": [
    {
     "ename": "ObjectInUse",
     "evalue": "database \"test_db\" is being accessed by other users\nDETAIL:  There is 1 other session using the database.\n",
     "output_type": "error",
     "traceback": [
      "\u001b[1;31m---------------------------------------------------------------------------\u001b[0m",
      "\u001b[1;31mObjectInUse\u001b[0m                               Traceback (most recent call last)",
      "Cell \u001b[1;32mIn[20], line 14\u001b[0m\n\u001b[0;32m     12\u001b[0m database_name \u001b[38;5;241m=\u001b[39m \u001b[38;5;124m\"\u001b[39m\u001b[38;5;124mtest_db\u001b[39m\u001b[38;5;124m\"\u001b[39m\n\u001b[0;32m     13\u001b[0m drop_database_query \u001b[38;5;241m=\u001b[39m sql\u001b[38;5;241m.\u001b[39mSQL(\u001b[38;5;124m\"\u001b[39m\u001b[38;5;124mDROP DATABASE IF EXISTS \u001b[39m\u001b[38;5;132;01m{}\u001b[39;00m\u001b[38;5;124m\"\u001b[39m)\u001b[38;5;241m.\u001b[39mformat(sql\u001b[38;5;241m.\u001b[39mIdentifier(database_name))\n\u001b[1;32m---> 14\u001b[0m \u001b[43mcursor\u001b[49m\u001b[38;5;241;43m.\u001b[39;49m\u001b[43mexecute\u001b[49m\u001b[43m(\u001b[49m\u001b[43mdrop_database_query\u001b[49m\u001b[43m)\u001b[49m\n\u001b[0;32m     15\u001b[0m \u001b[38;5;28mprint\u001b[39m(\u001b[38;5;124mf\u001b[39m\u001b[38;5;124m\"\u001b[39m\u001b[38;5;124mDatabase \u001b[39m\u001b[38;5;124m'\u001b[39m\u001b[38;5;132;01m{\u001b[39;00mdatabase_name\u001b[38;5;132;01m}\u001b[39;00m\u001b[38;5;124m'\u001b[39m\u001b[38;5;124m berhasil dihapus.\u001b[39m\u001b[38;5;124m\"\u001b[39m)\n\u001b[0;32m     17\u001b[0m \u001b[38;5;66;03m# Tutup koneksi\u001b[39;00m\n",
      "\u001b[1;31mObjectInUse\u001b[0m: database \"test_db\" is being accessed by other users\nDETAIL:  There is 1 other session using the database.\n"
     ]
    }
   ],
   "source": [
    "# Koneksi ke database default untuk menghapus database\n",
    "connection = psycopg2.connect(\n",
    "    host=\"localhost\",\n",
    "    user=\"postgres\",\n",
    "    password=\"1234\",\n",
    "    database=\"postgres\"\n",
    ")\n",
    "connection.autocommit = True\n",
    "cursor = connection.cursor()\n",
    "\n",
    "# Hapus database\n",
    "database_name = \"test_db\"\n",
    "drop_database_query = sql.SQL(\"DROP DATABASE IF EXISTS {}\").format(sql.Identifier(database_name))\n",
    "cursor.execute(drop_database_query)\n",
    "print(f\"Database '{database_name}' berhasil dihapus.\")\n",
    "\n",
    "# Tutup koneksi\n",
    "cursor.close()\n",
    "connection.close()"
   ]
  }
 ],
 "metadata": {
  "kernelspec": {
   "display_name": "Python 3",
   "language": "python",
   "name": "python3"
  },
  "language_info": {
   "codemirror_mode": {
    "name": "ipython",
    "version": 3
   },
   "file_extension": ".py",
   "mimetype": "text/x-python",
   "name": "python",
   "nbconvert_exporter": "python",
   "pygments_lexer": "ipython3",
   "version": "3.12.4"
  }
 },
 "nbformat": 4,
 "nbformat_minor": 2
}
